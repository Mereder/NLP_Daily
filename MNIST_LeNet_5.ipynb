{
 "cells": [
  {
   "cell_type": "code",
   "execution_count": 2,
   "metadata": {
    "colab": {
     "base_uri": "https://localhost:8080/",
     "height": 35
    },
    "colab_type": "code",
    "id": "emMfSL9skTwl",
    "outputId": "1c4210f3-307e-4aa3-bff1-7c0353cea185"
   },
   "outputs": [
    {
     "name": "stderr",
     "output_type": "stream",
     "text": [
      "Using TensorFlow backend.\n"
     ]
    }
   ],
   "source": [
    "import keras\n",
    "from keras.datasets import mnist\n",
    "from keras.models import Sequential\n",
    "# 各个层有不同的作用 依次为 全连接层  \n",
    "from keras.layers import Dense,Flatten,Conv2D,MaxPooling2D\n",
    "from keras import backend as K"
   ]
  },
  {
   "cell_type": "code",
   "execution_count": 0,
   "metadata": {
    "colab": {},
    "colab_type": "code",
    "id": "Oaat2gG-lri0"
   },
   "outputs": [],
   "source": [
    "num_classes = 10\n",
    "img_rows,img_cols = 28, 28"
   ]
  },
  {
   "cell_type": "code",
   "execution_count": 4,
   "metadata": {
    "colab": {
     "base_uri": "https://localhost:8080/",
     "height": 53
    },
    "colab_type": "code",
    "id": "WlEeIAzllxL5",
    "outputId": "1949dd10-2b83-4e42-cf27-e4454b6f521a"
   },
   "outputs": [
    {
     "name": "stdout",
     "output_type": "stream",
     "text": [
      "Downloading data from https://s3.amazonaws.com/img-datasets/mnist.npz\n",
      "11493376/11490434 [==============================] - 1s 0us/step\n"
     ]
    }
   ],
   "source": [
    "(trainX, trainY),(testX,testY) = mnist.load_data()"
   ]
  },
  {
   "cell_type": "code",
   "execution_count": 0,
   "metadata": {
    "colab": {},
    "colab_type": "code",
    "id": "v1voKhtrmBxb"
   },
   "outputs": [],
   "source": [
    "if K.image_data_format() == 'channals_first':\n",
    "  trainX = trainX.reshape(trainX.shape[0],1,img_rows,img_cols)\n",
    "  testX = testX.reshape(testX.shape[0],1,img_rows,img_cols)\n",
    "  input_shape = (1,img_rows, img_cols)\n",
    "else:\n",
    "  trainX = trainX.reshape(trainX.shape[0],img_rows,img_cols,1)\n",
    "  testX = testX.reshape(testX.shape[0],img_rows,img_cols,1)\n",
    "  input_shape = (img_rows, img_cols,1)\n",
    " "
   ]
  },
  {
   "cell_type": "code",
   "execution_count": 0,
   "metadata": {
    "colab": {},
    "colab_type": "code",
    "id": "2F0RfOwXm1_r"
   },
   "outputs": [],
   "source": [
    "# 将图像像素转换为0-1之间实数\n",
    "trainX = trainX.astype('float32')\n",
    "testX = testX.astype('float32')\n",
    "trainX = trainX / 255.0\n",
    "testX = testX / 255.0"
   ]
  },
  {
   "cell_type": "code",
   "execution_count": 0,
   "metadata": {
    "colab": {},
    "colab_type": "code",
    "id": "G9aKuSwEnG1j"
   },
   "outputs": [],
   "source": [
    "# 将标准答案 转为 one-hot向量。例如数字1 就是  [0,1,0,0,0,0,0,0,0,0] \n",
    "trainY = keras.utils.to_categorical(trainY, num_classes)\n",
    "testY = keras.utils.to_categorical(testY, num_classes)"
   ]
  },
  {
   "cell_type": "code",
   "execution_count": 8,
   "metadata": {
    "colab": {
     "base_uri": "https://localhost:8080/",
     "height": 91
    },
    "colab_type": "code",
    "id": "foGLXBomnbHx",
    "outputId": "bd8ce0fc-e7ee-44fc-8c7c-017085816eca"
   },
   "outputs": [
    {
     "name": "stdout",
     "output_type": "stream",
     "text": [
      "WARNING:tensorflow:From /usr/local/lib/python3.6/dist-packages/tensorflow/python/framework/op_def_library.py:263: colocate_with (from tensorflow.python.framework.ops) is deprecated and will be removed in a future version.\n",
      "Instructions for updating:\n",
      "Colocations handled automatically by placer.\n"
     ]
    }
   ],
   "source": [
    "model = Sequential()\n",
    "# 卷积层 需要定义输入shape=[28,28,1] 默认不padding  默认步长为1\n",
    "model.add(Conv2D(32,kernel_size=(5,5),activation='relu',input_shape=input_shape))\n",
    "# 卷积后 尺寸为 （24,24,32）(28-5+1)/1 = 24 加快计算 防止过拟合\n",
    "# 最大池化层 \n",
    "model.add(MaxPooling2D(pool_size=(2,2)))\n",
    "# 池化后 （12,12,32）\n",
    "# 继续卷积 \n",
    "model.add(Conv2D(64,kernel_size=(5,5),activation='relu'))\n",
    "# 卷积后 (8,8,64) \n",
    "# 继续池化\n",
    "model.add(MaxPooling2D(pool_size=(2,2)))\n",
    "# 池化后 尺寸为  (4,4,64)\n",
    "# Flatten层用来将输入“压平”，即把多维的输入一维化，常用在从卷积层到全连接层的过渡。Flatten不影响batch的大小。\n",
    "model.add(Flatten())\n",
    "# Flatten之后 为 4*4*16 256\n",
    "# 全连接层 500个结点 激活函数为 relu\n",
    "model.add(Dense(500,activation='relu'))\n",
    "# 全连接层 也是 输出层  10个结点  \n",
    "model.add(Dense(num_classes,activation='softmax'))"
   ]
  },
  {
   "cell_type": "code",
   "execution_count": 0,
   "metadata": {
    "colab": {},
    "colab_type": "code",
    "id": "6CT_bxZjuPCP"
   },
   "outputs": [],
   "source": [
    "model.compile(loss=keras.losses.categorical_crossentropy,\n",
    "             optimizer=keras.optimizers.SGD(),\n",
    "             metrics=['accuracy'])"
   ]
  },
  {
   "cell_type": "code",
   "execution_count": 12,
   "metadata": {
    "colab": {
     "base_uri": "https://localhost:8080/",
     "height": 773
    },
    "colab_type": "code",
    "id": "mlCtewkgurkk",
    "outputId": "d38ab123-519e-4ede-dcc2-2d016e777a18"
   },
   "outputs": [
    {
     "name": "stdout",
     "output_type": "stream",
     "text": [
      "Train on 60000 samples, validate on 10000 samples\n",
      "Epoch 1/20\n",
      "60000/60000 [==============================] - 2s 41us/step - loss: 0.0638 - acc: 0.9809 - val_loss: 0.0554 - val_acc: 0.9834\n",
      "Epoch 2/20\n",
      "60000/60000 [==============================] - 2s 39us/step - loss: 0.0598 - acc: 0.9821 - val_loss: 0.0546 - val_acc: 0.9832\n",
      "Epoch 3/20\n",
      "60000/60000 [==============================] - 2s 39us/step - loss: 0.0564 - acc: 0.9830 - val_loss: 0.0503 - val_acc: 0.9858\n",
      "Epoch 4/20\n",
      "60000/60000 [==============================] - 2s 39us/step - loss: 0.0535 - acc: 0.9839 - val_loss: 0.0514 - val_acc: 0.9838\n",
      "Epoch 5/20\n",
      "60000/60000 [==============================] - 2s 40us/step - loss: 0.0504 - acc: 0.9853 - val_loss: 0.0443 - val_acc: 0.9864\n",
      "Epoch 6/20\n",
      "60000/60000 [==============================] - 2s 39us/step - loss: 0.0485 - acc: 0.9854 - val_loss: 0.0434 - val_acc: 0.9866\n",
      "Epoch 7/20\n",
      "60000/60000 [==============================] - 2s 39us/step - loss: 0.0468 - acc: 0.9859 - val_loss: 0.0486 - val_acc: 0.9856\n",
      "Epoch 8/20\n",
      "60000/60000 [==============================] - 2s 39us/step - loss: 0.0443 - acc: 0.9869 - val_loss: 0.0440 - val_acc: 0.9852\n",
      "Epoch 9/20\n",
      "60000/60000 [==============================] - 2s 40us/step - loss: 0.0428 - acc: 0.9871 - val_loss: 0.0474 - val_acc: 0.9828\n",
      "Epoch 10/20\n",
      "60000/60000 [==============================] - 2s 40us/step - loss: 0.0405 - acc: 0.9878 - val_loss: 0.0411 - val_acc: 0.9868\n",
      "Epoch 11/20\n",
      "60000/60000 [==============================] - 2s 39us/step - loss: 0.0398 - acc: 0.9883 - val_loss: 0.0396 - val_acc: 0.9875\n",
      "Epoch 12/20\n",
      "60000/60000 [==============================] - 2s 40us/step - loss: 0.0379 - acc: 0.9892 - val_loss: 0.0429 - val_acc: 0.9876\n",
      "Epoch 13/20\n",
      "60000/60000 [==============================] - 2s 39us/step - loss: 0.0366 - acc: 0.9890 - val_loss: 0.0387 - val_acc: 0.9874\n",
      "Epoch 14/20\n",
      "60000/60000 [==============================] - 2s 40us/step - loss: 0.0355 - acc: 0.9895 - val_loss: 0.0363 - val_acc: 0.9883\n",
      "Epoch 15/20\n",
      "60000/60000 [==============================] - 2s 39us/step - loss: 0.0343 - acc: 0.9897 - val_loss: 0.0356 - val_acc: 0.9884\n",
      "Epoch 16/20\n",
      "60000/60000 [==============================] - 2s 39us/step - loss: 0.0328 - acc: 0.9904 - val_loss: 0.0345 - val_acc: 0.9894\n",
      "Epoch 17/20\n",
      "60000/60000 [==============================] - 2s 40us/step - loss: 0.0323 - acc: 0.9907 - val_loss: 0.0359 - val_acc: 0.9884\n",
      "Epoch 18/20\n",
      "60000/60000 [==============================] - 3s 44us/step - loss: 0.0310 - acc: 0.9908 - val_loss: 0.0337 - val_acc: 0.9885\n",
      "Epoch 19/20\n",
      "60000/60000 [==============================] - 3s 44us/step - loss: 0.0300 - acc: 0.9910 - val_loss: 0.0397 - val_acc: 0.9865\n",
      "Epoch 20/20\n",
      "60000/60000 [==============================] - 3s 44us/step - loss: 0.0291 - acc: 0.9915 - val_loss: 0.0338 - val_acc: 0.9886\n"
     ]
    },
    {
     "data": {
      "text/plain": [
       "<keras.callbacks.History at 0x7fe384b66160>"
      ]
     },
     "execution_count": 12,
     "metadata": {
      "tags": []
     },
     "output_type": "execute_result"
    }
   ],
   "source": [
    "model.fit(trainX,trainY,batch_size=128,\n",
    "         epochs=20,\n",
    "         validation_data=(testX,testY))"
   ]
  },
  {
   "cell_type": "code",
   "execution_count": 13,
   "metadata": {
    "colab": {
     "base_uri": "https://localhost:8080/",
     "height": 71
    },
    "colab_type": "code",
    "id": "EfsF1PHSu8jH",
    "outputId": "feba7b2a-3ef4-491c-a6e0-327459591d65"
   },
   "outputs": [
    {
     "name": "stdout",
     "output_type": "stream",
     "text": [
      "10000/10000 [==============================] - 0s 49us/step\n",
      "Test loss: 0.03384795787587063\n",
      "test accuracy 0.9886\n"
     ]
    }
   ],
   "source": [
    "score = model.evaluate(testX,testY)\n",
    "print('Test loss:',score[0])\n",
    "print('test accuracy',score[1])"
   ]
  },
  {
   "cell_type": "code",
   "execution_count": 0,
   "metadata": {
    "colab": {},
    "colab_type": "code",
    "id": "2CQh6lpSyC6C"
   },
   "outputs": [],
   "source": []
  }
 ],
 "metadata": {
  "accelerator": "GPU",
  "colab": {
   "name": "MNIST_LeNet-5",
   "provenance": [],
   "version": "0.3.2"
  },
  "kernelspec": {
   "display_name": "Python 3",
   "language": "python",
   "name": "python3"
  },
  "language_info": {
   "codemirror_mode": {
    "name": "ipython",
    "version": 3
   },
   "file_extension": ".py",
   "mimetype": "text/x-python",
   "name": "python",
   "nbconvert_exporter": "python",
   "pygments_lexer": "ipython3",
   "version": "3.6.5"
  }
 },
 "nbformat": 4,
 "nbformat_minor": 1
}
